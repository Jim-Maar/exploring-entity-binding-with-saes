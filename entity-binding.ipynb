{
 "cells": [
  {
   "cell_type": "markdown",
   "metadata": {},
   "source": [
    "# Exploring the Entity Binding Circuit with SAEs"
   ]
  },
  {
   "cell_type": "markdown",
   "metadata": {},
   "source": [
    "## Setup"
   ]
  },
  {
   "cell_type": "code",
   "execution_count": 1,
   "metadata": {},
   "outputs": [],
   "source": [
    "import os, sys\n",
    "import sys\n",
    "import torch as t\n",
    "from torch import Tensor\n",
    "import torch.nn as nn\n",
    "import torch.nn.functional as F\n",
    "from pathlib import Path\n",
    "import numpy as np\n",
    "import einops\n",
    "from jaxtyping import Int, Float\n",
    "import functools\n",
    "from tqdm import tqdm\n",
    "from IPython.display import display\n",
    "from transformer_lens.hook_points import HookPoint\n",
    "from transformer_lens import (\n",
    "    utils,\n",
    "    HookedTransformer,\n",
    "    HookedTransformerConfig,\n",
    "    FactoredMatrix,\n",
    "    ActivationCache,\n",
    ")\n",
    "# import circuitsvis as cv\n",
    "import os\n",
    "import itertools\n",
    "import random\n",
    "import circuitsvis as cv\n",
    "\n",
    "t.set_grad_enabled(False)\n",
    "\n",
    "device = t.device(\"cuda\" if t.cuda.is_available() else \"cpu\")\n",
    "\n",
    "MAIN = __name__ == \"__main__\""
   ]
  },
  {
   "cell_type": "code",
   "execution_count": 2,
   "metadata": {},
   "outputs": [
    {
     "data": {
      "application/vnd.jupyter.widget-view+json": {
       "model_id": "81963cd5264d474186bf9dcdbeb99599",
       "version_major": 2,
       "version_minor": 0
      },
      "text/plain": [
       "VBox(children=(HTML(value='<center> <img\\nsrc=https://huggingface.co/front/assets/huggingface_logo-noborder.sv…"
      ]
     },
     "metadata": {},
     "output_type": "display_data"
    },
    {
     "name": "stderr",
     "output_type": "stream",
     "text": [
      "Token has not been saved to git credential helper.\n"
     ]
    }
   ],
   "source": [
    "from huggingface_hub import notebook_login\n",
    "\n",
    "notebook_login()"
   ]
  },
  {
   "cell_type": "markdown",
   "metadata": {},
   "source": [
    "## Recreating The Paper results with Gemma 9B\n",
    "- Load Model (Done)\n",
    "- Test Model on Capitals Task"
   ]
  },
  {
   "cell_type": "code",
   "execution_count": 3,
   "metadata": {},
   "outputs": [
    {
     "name": "stderr",
     "output_type": "stream",
     "text": [
      "WARNING:root:You tried to specify center_unembed=True for a model using logit softcap, but this can't be done! Softcapping is not invariant upon adding a constant Setting center_unembed=False instead.\n"
     ]
    },
    {
     "data": {
      "application/vnd.jupyter.widget-view+json": {
       "model_id": "ec5223674c064dff8b484008454b772d",
       "version_major": 2,
       "version_minor": 0
      },
      "text/plain": [
       "config.json:   0%|          | 0.00/838 [00:00<?, ?B/s]"
      ]
     },
     "metadata": {},
     "output_type": "display_data"
    },
    {
     "data": {
      "application/vnd.jupyter.widget-view+json": {
       "model_id": "ac6bf58c0710441db40175e710ee23a2",
       "version_major": 2,
       "version_minor": 0
      },
      "text/plain": [
       "model.safetensors.index.json:   0%|          | 0.00/24.2k [00:00<?, ?B/s]"
      ]
     },
     "metadata": {},
     "output_type": "display_data"
    },
    {
     "data": {
      "application/vnd.jupyter.widget-view+json": {
       "model_id": "1a438cf6652c4ec8bdb89a9dd03a06ea",
       "version_major": 2,
       "version_minor": 0
      },
      "text/plain": [
       "Fetching 2 files:   0%|          | 0/2 [00:00<?, ?it/s]"
      ]
     },
     "metadata": {},
     "output_type": "display_data"
    },
    {
     "data": {
      "application/vnd.jupyter.widget-view+json": {
       "model_id": "439a89da2c76492896e37b0bd60f5a4b",
       "version_major": 2,
       "version_minor": 0
      },
      "text/plain": [
       "model-00001-of-00002.safetensors:   0%|          | 0.00/4.99G [00:00<?, ?B/s]"
      ]
     },
     "metadata": {},
     "output_type": "display_data"
    },
    {
     "data": {
      "application/vnd.jupyter.widget-view+json": {
       "model_id": "74de53533f5d4f6fbc0ec41aa91dccb1",
       "version_major": 2,
       "version_minor": 0
      },
      "text/plain": [
       "model-00002-of-00002.safetensors:   0%|          | 0.00/241M [00:00<?, ?B/s]"
      ]
     },
     "metadata": {},
     "output_type": "display_data"
    },
    {
     "data": {
      "application/vnd.jupyter.widget-view+json": {
       "model_id": "eca0f05dce404567b39427508d447abd",
       "version_major": 2,
       "version_minor": 0
      },
      "text/plain": [
       "Loading checkpoint shards:   0%|          | 0/2 [00:00<?, ?it/s]"
      ]
     },
     "metadata": {},
     "output_type": "display_data"
    },
    {
     "data": {
      "application/vnd.jupyter.widget-view+json": {
       "model_id": "94120123422448d9978be09236242caa",
       "version_major": 2,
       "version_minor": 0
      },
      "text/plain": [
       "generation_config.json:   0%|          | 0.00/187 [00:00<?, ?B/s]"
      ]
     },
     "metadata": {},
     "output_type": "display_data"
    },
    {
     "data": {
      "application/vnd.jupyter.widget-view+json": {
       "model_id": "66e8bf3656a348a488223e8078d4faf0",
       "version_major": 2,
       "version_minor": 0
      },
      "text/plain": [
       "tokenizer_config.json:   0%|          | 0.00/47.0k [00:00<?, ?B/s]"
      ]
     },
     "metadata": {},
     "output_type": "display_data"
    },
    {
     "data": {
      "application/vnd.jupyter.widget-view+json": {
       "model_id": "81b3950830bf493daa1f05eff7a2f1d9",
       "version_major": 2,
       "version_minor": 0
      },
      "text/plain": [
       "tokenizer.model:   0%|          | 0.00/4.24M [00:00<?, ?B/s]"
      ]
     },
     "metadata": {},
     "output_type": "display_data"
    },
    {
     "data": {
      "application/vnd.jupyter.widget-view+json": {
       "model_id": "7644c3455c054fbdaa8d1c48515ed4ba",
       "version_major": 2,
       "version_minor": 0
      },
      "text/plain": [
       "tokenizer.json:   0%|          | 0.00/17.5M [00:00<?, ?B/s]"
      ]
     },
     "metadata": {},
     "output_type": "display_data"
    },
    {
     "data": {
      "application/vnd.jupyter.widget-view+json": {
       "model_id": "89d0c5bab358450c9b0272ea686f27dc",
       "version_major": 2,
       "version_minor": 0
      },
      "text/plain": [
       "special_tokens_map.json:   0%|          | 0.00/636 [00:00<?, ?B/s]"
      ]
     },
     "metadata": {},
     "output_type": "display_data"
    },
    {
     "name": "stderr",
     "output_type": "stream",
     "text": [
      "WARNING:root:You are not using LayerNorm, so the writing weights can't be centered! Skipping\n"
     ]
    },
    {
     "name": "stdout",
     "output_type": "stream",
     "text": [
      "Loaded pretrained model google/gemma-2-2b-it into HookedTransformer\n"
     ]
    }
   ],
   "source": [
    "model = HookedTransformer.from_pretrained('google/gemma-2-2b-it')"
   ]
  },
  {
   "cell_type": "code",
   "execution_count": 4,
   "metadata": {},
   "outputs": [
    {
     "data": {
      "text/plain": [
       "'model = model.to(device)\\ngemmascope_sae_release = \"gemma-scope-2b-pt-res-canonical\"\\ngemmascope_sae_id = \"layer_20/width_16k/canonical\"\\ngemma_2_2b_sae = SAE.from_pretrained(gemmascope_sae_release, gemmascope_sae_id, device=str(device))[0]\\nlatent_idx = 12082\\n\\ndisplay_dashboard(sae_release=gemmascope_sae_release, sae_id=gemmascope_sae_id, latent_idx=latent_idx)'"
      ]
     },
     "execution_count": 4,
     "metadata": {},
     "output_type": "execute_result"
    }
   ],
   "source": [
    "'''model = model.to(device)\n",
    "gemmascope_sae_release = \"gemma-scope-2b-pt-res-canonical\"\n",
    "gemmascope_sae_id = \"layer_20/width_16k/canonical\"\n",
    "gemma_2_2b_sae = SAE.from_pretrained(gemmascope_sae_release, gemmascope_sae_id, device=str(device))[0]\n",
    "latent_idx = 12082\n",
    "\n",
    "display_dashboard(sae_release=gemmascope_sae_release, sae_id=gemmascope_sae_id, latent_idx=latent_idx)'''"
   ]
  },
  {
   "cell_type": "code",
   "execution_count": 5,
   "metadata": {},
   "outputs": [
    {
     "data": {
      "text/plain": [
       "(37, 37, 49)"
      ]
     },
     "execution_count": 5,
     "metadata": {},
     "output_type": "execute_result"
    }
   ],
   "source": [
    "country_list = ['Thailand', 'Japan', 'Brazil', 'Morocco', 'Sweden', 'Kenya', 'Argentina', 'Australia', 'Egypt', 'Canada', 'Vietnam', 'Portugal', 'India', 'Norway', 'Mexico', 'Malaysia', 'Greece', 'Finland', 'Indonesia', 'Turkey', 'Chile', 'Ireland', 'Bangladesh', 'Denmark', 'Peru', 'Iceland', 'Colombia', 'Singapore', 'Austria', 'Nigeria', 'Croatia', 'Taiwan', 'Switzerland', 'Ghana', 'Cambodia', 'Poland', 'Nepal', 'Uruguay', 'Tanzania', 'Belgium', 'Jordan', 'Hungary', 'Bhutan', 'Maldives', 'Venezuela', 'Laos', 'Romania', 'Somalia', 'Mongolia', 'Uzbekistan']\n",
    "name_list = ['Emma', 'James', 'Luna', 'Kai', 'Zara', 'Leo', 'Maya', 'Finn', 'Nova', 'Atlas', 'Rose', 'Sage', 'Jack', 'Ruby', 'Owen', 'Grace', 'Dean', 'Hope', 'Blake', 'Dawn', 'Cole', 'Faith', 'Reed', 'Sky', 'Jade', 'Wolf', 'Rain', 'Quinn', 'Blaze', 'Pearl', 'Felix', 'Iris', 'Seth', 'Dove', 'Drake', 'Joy', 'Axel', 'Fern', 'Stone', 'Wren', 'Grant', 'Hazel', 'Brooks', 'Ash', 'Reid', 'Sage', 'Clark', 'Skye', 'Blair', 'Scout']\n",
    "capital_list = ['Bangkok', 'Tokyo', 'Brasilia', 'Rabat', 'Stockholm', 'Nairobi', 'Buenos Aires', 'Canberra', 'Cairo', 'Ottawa', 'Hanoi', 'Lisbon', 'New Delhi', 'Oslo', 'Mexico City', 'Kuala Lumpur', 'Athens', 'Helsinki', 'Jakarta', 'Ankara', 'Santiago', 'Dublin', 'Dhaka', 'Copenhagen', 'Lima', 'Reykjavik', 'Bogota', 'Singapore', 'Vienna', 'Abuja', 'Zagreb', 'Taipei', 'Bern', 'Accra', 'Phnom Penh', 'Warsaw', 'Kathmandu', 'Montevideo', 'Dodoma', 'Brussels', 'Amman', 'Budapest', 'Thimphu', 'Male', 'Caracas', 'Vientiane', 'Bucharest', 'Mogadishu', 'Ulaanbaatar', 'Tashkent']\n",
    "capital_list = [f\" {capital}\" for capital in capital_list]\n",
    "# country_list = [f\" {country}\" for country in country_list]\n",
    "# name_list = [f\" {name}\" for name in name_list]\n",
    "\n",
    "def get_one_token_lists(lists):\n",
    "    assert len(lists) > 0\n",
    "    assert type(lists[0]) is list\n",
    "    list_len = len(lists[0])\n",
    "    assert all([len(l) == list_len for l in lists])\n",
    "    one_token_indices = []\n",
    "    for i in range(list_len):\n",
    "        is_one_token = True\n",
    "        for j in range(len(lists)):\n",
    "            name = lists[j][i]\n",
    "            toks = model.to_tokens(name, prepend_bos=False)[0]\n",
    "            if len(toks) > 1:\n",
    "                is_one_token = False\n",
    "                break\n",
    "        if is_one_token:\n",
    "            one_token_indices += [i]\n",
    "    new_lists = [[] for _ in range(len(lists))]\n",
    "    for idx in one_token_indices:\n",
    "        for j in range(len(lists)):\n",
    "            new_lists[j] += [lists[j][idx]]\n",
    "    return new_lists\n",
    "\n",
    "name_list_one_token = get_one_token_lists([name_list])[0]\n",
    "country_list_one_token, capital_list_one_token = get_one_token_lists([country_list, capital_list])\n",
    "len(country_list_one_token), len(capital_list_one_token), len(name_list_one_token)"
   ]
  },
  {
   "cell_type": "code",
   "execution_count": null,
   "metadata": {},
   "outputs": [
    {
     "ename": "TypeError",
     "evalue": "The number of choices must be a keyword argument: k=100",
     "output_type": "error",
     "traceback": [
      "\u001b[0;31m---------------------------------------------------------------------------\u001b[0m",
      "\u001b[0;31mTypeError\u001b[0m                                 Traceback (most recent call last)",
      "\u001b[1;32m/root/exploring-entity-binding-with-saes/entity-binding.ipynb Cell 9\u001b[0m line \u001b[0;36m4\n\u001b[1;32m     <a href='vscode-notebook-cell://ssh-remote%2Brun_pod/root/exploring-entity-binding-with-saes/entity-binding.ipynb#X12sdnNjb2RlLXJlbW90ZQ%3D%3D?line=38'>39</a>\u001b[0m     \u001b[39mreturn\u001b[39;00m prompts, correct_answers, wrong_answers\n\u001b[1;32m     <a href='vscode-notebook-cell://ssh-remote%2Brun_pod/root/exploring-entity-binding-with-saes/entity-binding.ipynb#X12sdnNjb2RlLXJlbW90ZQ%3D%3D?line=40'>41</a>\u001b[0m n \u001b[39m=\u001b[39m \u001b[39m100\u001b[39m\n\u001b[0;32m---> <a href='vscode-notebook-cell://ssh-remote%2Brun_pod/root/exploring-entity-binding-with-saes/entity-binding.ipynb#X12sdnNjb2RlLXJlbW90ZQ%3D%3D?line=41'>42</a>\u001b[0m prompts, correct_answers, wrong_answers \u001b[39m=\u001b[39m get_prompts(n, country_list_one_token, name_list_one_token, get_prompt_capital, capital_list_one_token)\n\u001b[1;32m     <a href='vscode-notebook-cell://ssh-remote%2Brun_pod/root/exploring-entity-binding-with-saes/entity-binding.ipynb#X12sdnNjb2RlLXJlbW90ZQ%3D%3D?line=42'>43</a>\u001b[0m input_toks \u001b[39m=\u001b[39m model\u001b[39m.\u001b[39mto_tokens(prompts)\n\u001b[1;32m     <a href='vscode-notebook-cell://ssh-remote%2Brun_pod/root/exploring-entity-binding-with-saes/entity-binding.ipynb#X12sdnNjb2RlLXJlbW90ZQ%3D%3D?line=43'>44</a>\u001b[0m label_toks \u001b[39m=\u001b[39m model\u001b[39m.\u001b[39mto_tokens(correct_answers, prepend_bos\u001b[39m=\u001b[39m\u001b[39mFalse\u001b[39;00m)\n",
      "\u001b[1;32m/root/exploring-entity-binding-with-saes/entity-binding.ipynb Cell 9\u001b[0m line \u001b[0;36m1\n\u001b[1;32m     <a href='vscode-notebook-cell://ssh-remote%2Brun_pod/root/exploring-entity-binding-with-saes/entity-binding.ipynb#X12sdnNjb2RlLXJlbW90ZQ%3D%3D?line=11'>12</a>\u001b[0m wrong_answers \u001b[39m=\u001b[39m []\n\u001b[1;32m     <a href='vscode-notebook-cell://ssh-remote%2Brun_pod/root/exploring-entity-binding-with-saes/entity-binding.ipynb#X12sdnNjb2RlLXJlbW90ZQ%3D%3D?line=13'>14</a>\u001b[0m \u001b[39m# Sample n countries and n names without replacement\u001b[39;00m\n\u001b[0;32m---> <a href='vscode-notebook-cell://ssh-remote%2Brun_pod/root/exploring-entity-binding-with-saes/entity-binding.ipynb#X12sdnNjb2RlLXJlbW90ZQ%3D%3D?line=14'>15</a>\u001b[0m A_0_list \u001b[39m=\u001b[39m random\u001b[39m.\u001b[39;49mchoices(attributes, n)\n\u001b[1;32m     <a href='vscode-notebook-cell://ssh-remote%2Brun_pod/root/exploring-entity-binding-with-saes/entity-binding.ipynb#X12sdnNjb2RlLXJlbW90ZQ%3D%3D?line=15'>16</a>\u001b[0m E_0_list \u001b[39m=\u001b[39m random\u001b[39m.\u001b[39mcoices(entities, n)\n\u001b[1;32m     <a href='vscode-notebook-cell://ssh-remote%2Brun_pod/root/exploring-entity-binding-with-saes/entity-binding.ipynb#X12sdnNjb2RlLXJlbW90ZQ%3D%3D?line=16'>17</a>\u001b[0m A_1_list \u001b[39m=\u001b[39m random\u001b[39m.\u001b[39mchoices(attributes, n)\n",
      "File \u001b[0;32m/usr/lib/python3.10/random.py:526\u001b[0m, in \u001b[0;36mRandom.choices\u001b[0;34m(self, population, weights, cum_weights, k)\u001b[0m\n\u001b[1;32m    524\u001b[0m             \u001b[39mraise\u001b[39;00m\n\u001b[1;32m    525\u001b[0m         k \u001b[39m=\u001b[39m weights\n\u001b[0;32m--> 526\u001b[0m         \u001b[39mraise\u001b[39;00m \u001b[39mTypeError\u001b[39;00m(\n\u001b[1;32m    527\u001b[0m             \u001b[39mf\u001b[39m\u001b[39m'\u001b[39m\u001b[39mThe number of choices must be a keyword argument: \u001b[39m\u001b[39m{\u001b[39;00mk\u001b[39m=}\u001b[39;00m\u001b[39m'\u001b[39m\n\u001b[1;32m    528\u001b[0m         ) \u001b[39mfrom\u001b[39;00m\u001b[39m \u001b[39m\u001b[39mNone\u001b[39;00m\n\u001b[1;32m    529\u001b[0m \u001b[39melif\u001b[39;00m weights \u001b[39mis\u001b[39;00m \u001b[39mnot\u001b[39;00m \u001b[39mNone\u001b[39;00m:\n\u001b[1;32m    530\u001b[0m     \u001b[39mraise\u001b[39;00m \u001b[39mTypeError\u001b[39;00m(\u001b[39m'\u001b[39m\u001b[39mCannot specify both weights and cumulative weights\u001b[39m\u001b[39m'\u001b[39m)\n",
      "\u001b[0;31mTypeError\u001b[0m: The number of choices must be a keyword argument: k=100"
     ]
    }
   ],
   "source": [
    "def get_prompt_capital(qn_subject, E_0, E_1, A_0, A_1):\n",
    "    return f\"\"\"Answer the question based on the context below. Keep the answer short.\n",
    "Context: {E_0} lives in the capital city of {A_0}.\n",
    "{E_1} lives in the capital city of {A_1}.\n",
    "Question: Which city does {qn_subject} live in?\n",
    "Answer: {qn_subject} lives in the city of\"\"\"\n",
    "\n",
    "def get_prompts(n, entities, attributes, get_prompt_function, answer_list = None):\n",
    "    # sample n pairs of country+capital and n pairs of name+name\n",
    "    prompts = []\n",
    "    correct_answers = []\n",
    "    wrong_answers = []\n",
    "    \n",
    "    # Sample n countries and n names without replacement\n",
    "    A_0_list = random.choices(attributes, k=n)\n",
    "    E_0_list = random.coices(entities, k=n)\n",
    "    A_1_list = random.choices(attributes, k=n)\n",
    "    E_1_list = random.coices(entities, k=n)\n",
    "    \n",
    "    for i in range(n):\n",
    "        # For each prompt, we need 2 different countries and 2 different names\n",
    "        E_0 = E_0_list[i]\n",
    "        A_0 = A_0_list[i]\n",
    "        E_1 = E_1_list[i]\n",
    "        A_1 = A_1_list[i]\n",
    "        qn_subject = random.choice([E_0, E_1])\n",
    "        if answer_list is not None:\n",
    "            correct_answer = answer_list[attributes.index(A_0)] if qn_subject == E_0 else answer_list[attributes.index(A_1)]\n",
    "            wrong_answer = answer_list[attributes.index(A_1)] if qn_subject == E_0 else answer_list[attributes.index(A_0)]\n",
    "        else:\n",
    "            correct_answer = A_0 if qn_subject == E_0 else A_1\n",
    "            wrong_answer = A_1 if qn_subject == E_0 else A_0\n",
    "\n",
    "        prompt = get_prompt_function(qn_subject, E_0, E_1, A_0, A_1)\n",
    "        prompts.append(prompt)\n",
    "        correct_answers.append(correct_answer)\n",
    "        wrong_answers.append(wrong_answer)\n",
    "    \n",
    "    return prompts, correct_answers, wrong_answers\n",
    "\n",
    "n = 100\n",
    "prompts, correct_answers, wrong_answers = get_prompts(n, country_list_one_token, name_list_one_token, get_prompt_capital, capital_list_one_token)\n",
    "input_toks = model.to_tokens(prompts)\n",
    "label_toks = model.to_tokens(correct_answers, prepend_bos=False)\n",
    "input_toks.shape, label_toks.shape"
   ]
  },
  {
   "cell_type": "code",
   "execution_count": 176,
   "metadata": {},
   "outputs": [
    {
     "data": {
      "application/vnd.jupyter.widget-view+json": {
       "model_id": "f72989faeb964f3ab3dded4db5dee502",
       "version_major": 2,
       "version_minor": 0
      },
      "text/plain": [
       "  0%|          | 0/1 [00:00<?, ?it/s]"
      ]
     },
     "metadata": {},
     "output_type": "display_data"
    },
    {
     "data": {
      "text/plain": [
       "tensor(1., device='cuda:0')"
      ]
     },
     "execution_count": 176,
     "metadata": {},
     "output_type": "execute_result"
    }
   ],
   "source": [
    "toks = model.generate(input_toks, max_new_tokens=1, do_sample=False)\n",
    "model_out = toks[:, -1]\n",
    "correct = (model_out == label_toks[:, 0])\n",
    "acc = correct.float().mean()\n",
    "acc"
   ]
  }
 ],
 "metadata": {
  "kernelspec": {
   "display_name": "main",
   "language": "python",
   "name": "python3"
  },
  "language_info": {
   "codemirror_mode": {
    "name": "ipython",
    "version": 3
   },
   "file_extension": ".py",
   "mimetype": "text/x-python",
   "name": "python",
   "nbconvert_exporter": "python",
   "pygments_lexer": "ipython3",
   "version": "3.10.12"
  }
 },
 "nbformat": 4,
 "nbformat_minor": 2
}
