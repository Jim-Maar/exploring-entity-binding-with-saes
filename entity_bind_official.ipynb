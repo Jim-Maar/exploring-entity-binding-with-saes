{
 "cells": [
  {
   "cell_type": "code",
   "execution_count": 1,
   "metadata": {},
   "outputs": [],
   "source": [
    "from __future__ import annotations\n",
    "\"\"\"\n",
    "The goal of this notebook is to simply collect a single set of basis for some kind of activation subspace. Specifically, \n",
    "we try to use the official implementation's \"Hessian algorithm\". If that doesn't work we can just try to use PCA.\n",
    "\"\"\"\n",
    "import torch\n",
    "import torch.nn\n",
    "import torch.nn.functional as F\n",
    "import functools as Ft\n",
    "import transformers\n",
    "# import datasets\n",
    "import sae_lens\n",
    "from sae_lens import SAE, HookedSAETransformer\n",
    "from transformer_lens import HookedTransformer\n",
    "from transformer_lens.hook_points import HookPoint\n",
    "from typing import List, Optional, Any, Dict, Tuple"
   ]
  },
  {
   "cell_type": "code",
   "execution_count": null,
   "metadata": {},
   "outputs": [],
   "source": []
  }
 ],
 "metadata": {
  "kernelspec": {
   "display_name": "neel-entity-bind",
   "language": "python",
   "name": "python3"
  },
  "language_info": {
   "codemirror_mode": {
    "name": "ipython",
    "version": 3
   },
   "file_extension": ".py",
   "mimetype": "text/x-python",
   "name": "python",
   "nbconvert_exporter": "python",
   "pygments_lexer": "ipython3",
   "version": "3.12.9"
  }
 },
 "nbformat": 4,
 "nbformat_minor": 2
}
